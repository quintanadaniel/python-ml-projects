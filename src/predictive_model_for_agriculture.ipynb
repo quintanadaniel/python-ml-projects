{
 "cells": [
  {
   "cell_type": "code",
   "id": "initial_id",
   "metadata": {
    "collapsed": true,
    "ExecuteTime": {
     "end_time": "2024-07-24T21:44:43.139432Z",
     "start_time": "2024-07-24T21:44:42.948150Z"
    }
   },
   "source": [
    "# All required libraries are imported here for you.\n",
    "import pandas as pd\n",
    "from sklearn.linear_model import LogisticRegression\n",
    "from sklearn.model_selection import train_test_split\n",
    "from sklearn import metrics\n",
    "\n",
    "# Load the dataset\n",
    "crops = pd.read_csv(\"../input_files/soil_measures.csv\")\n",
    "\n",
    "# Write your code here\n",
    "#print(crops.head())\n",
    "#print(\"////////////\")\n",
    "#print(crops.info())\n",
    "#print(\"////////////\")\n",
    "#print(crops.describe())\n",
    "\n",
    "# Validate is the data frame has null values\n",
    "assert crops.isna().sum().sum() == 0\n",
    "\n",
    "# Create variable to contain the feature erformance\n",
    "feature_performance = {}\n",
    "\n",
    "# List of feature\n",
    "features = ['N', 'P', 'K','ph']\n",
    "\n",
    "# Train and evaluate a model for every feature\n",
    "for feature in features:\n",
    "    X_feature = crops[[feature]].values\n",
    "    y_feature = crops['crop'].values\n",
    "    \n",
    "    X_train, X_test, y_train, y_test = train_test_split(X_feature, y_feature, test_size=0.2, random_state=42)\n",
    "    \n",
    "    logreg = LogisticRegression()\n",
    "    logreg.fit(X_train, y_train)\n",
    "    y_pred = logreg.predict(X_test)\n",
    "    \n",
    "    accuracy = metrics.accuracy_score(y_test, y_pred)\n",
    "    feature_performance[feature] = accuracy\n",
    "\n",
    "print(f\"feature_performance: {feature_performance}\")\n",
    "\n",
    "# Identify the best feature\n",
    "best_feature = max(feature_performance, key=feature_performance.get)\n",
    "best_score = feature_performance[best_feature]\n",
    "\n",
    "# Create the dictionary\n",
    "best_predictive_feature = {best_feature: best_score}\n",
    "print(f\"best_feature_performance: {best_predictive_feature}\")"
   ],
   "outputs": [
    {
     "name": "stdout",
     "output_type": "stream",
     "text": [
      "feature_performance: {'N': 0.13863636363636364, 'P': 0.20227272727272727, 'K': 0.2863636363636364, 'ph': 0.09772727272727273}\n",
      "best_feature_performance: {'K': 0.2863636363636364}\n"
     ]
    },
    {
     "name": "stderr",
     "output_type": "stream",
     "text": [
      "/Users/danielquintana/personal_projects/python-bigdata/python-ml-projects/venv/lib/python3.11/site-packages/sklearn/linear_model/_logistic.py:469: ConvergenceWarning: lbfgs failed to converge (status=1):\n",
      "STOP: TOTAL NO. of ITERATIONS REACHED LIMIT.\n",
      "\n",
      "Increase the number of iterations (max_iter) or scale the data as shown in:\n",
      "    https://scikit-learn.org/stable/modules/preprocessing.html\n",
      "Please also refer to the documentation for alternative solver options:\n",
      "    https://scikit-learn.org/stable/modules/linear_model.html#logistic-regression\n",
      "  n_iter_i = _check_optimize_result(\n",
      "/Users/danielquintana/personal_projects/python-bigdata/python-ml-projects/venv/lib/python3.11/site-packages/sklearn/linear_model/_logistic.py:469: ConvergenceWarning: lbfgs failed to converge (status=1):\n",
      "STOP: TOTAL NO. of ITERATIONS REACHED LIMIT.\n",
      "\n",
      "Increase the number of iterations (max_iter) or scale the data as shown in:\n",
      "    https://scikit-learn.org/stable/modules/preprocessing.html\n",
      "Please also refer to the documentation for alternative solver options:\n",
      "    https://scikit-learn.org/stable/modules/linear_model.html#logistic-regression\n",
      "  n_iter_i = _check_optimize_result(\n",
      "/Users/danielquintana/personal_projects/python-bigdata/python-ml-projects/venv/lib/python3.11/site-packages/sklearn/linear_model/_logistic.py:469: ConvergenceWarning: lbfgs failed to converge (status=1):\n",
      "STOP: TOTAL NO. of ITERATIONS REACHED LIMIT.\n",
      "\n",
      "Increase the number of iterations (max_iter) or scale the data as shown in:\n",
      "    https://scikit-learn.org/stable/modules/preprocessing.html\n",
      "Please also refer to the documentation for alternative solver options:\n",
      "    https://scikit-learn.org/stable/modules/linear_model.html#logistic-regression\n",
      "  n_iter_i = _check_optimize_result(\n"
     ]
    }
   ],
   "execution_count": 2
  }
 ],
 "metadata": {
  "kernelspec": {
   "display_name": "Python 3",
   "language": "python",
   "name": "python3"
  },
  "language_info": {
   "codemirror_mode": {
    "name": "ipython",
    "version": 2
   },
   "file_extension": ".py",
   "mimetype": "text/x-python",
   "name": "python",
   "nbconvert_exporter": "python",
   "pygments_lexer": "ipython2",
   "version": "2.7.6"
  }
 },
 "nbformat": 4,
 "nbformat_minor": 5
}
